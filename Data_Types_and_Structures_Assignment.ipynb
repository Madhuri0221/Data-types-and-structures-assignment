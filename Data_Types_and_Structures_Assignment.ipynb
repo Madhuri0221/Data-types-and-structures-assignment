{
  "nbformat": 4,
  "nbformat_minor": 0,
  "metadata": {
    "colab": {
      "provenance": []
    },
    "kernelspec": {
      "name": "python3",
      "display_name": "Python 3"
    },
    "language_info": {
      "name": "python"
    }
  },
  "cells": [
    {
      "cell_type": "markdown",
      "source": [
        "Data Types and Structures Assignment - Practical"
      ],
      "metadata": {
        "id": "y5OCQGmHdaJX"
      }
    },
    {
      "cell_type": "code",
      "source": [
        "# 1) Write a code to create a string with your name and print it\n",
        "s=\"Madhuri Sirigibattula\"\n",
        "print(f\"Name given is: {s}\")"
      ],
      "metadata": {
        "colab": {
          "base_uri": "https://localhost:8080/"
        },
        "id": "4lLf7_umIw3S",
        "outputId": "e6936b17-aca2-4b46-b771-c24b3658e16f"
      },
      "execution_count": null,
      "outputs": [
        {
          "output_type": "stream",
          "name": "stdout",
          "text": [
            "Name given is: Madhuri Sirigibattula\n"
          ]
        }
      ]
    },
    {
      "cell_type": "code",
      "source": [
        "# 2) Write a code to find the length of the string \"Hello World\"\n",
        "s=\"Hello World\"\n",
        "print(f\"Length of given string is: {len(s)}\")"
      ],
      "metadata": {
        "colab": {
          "base_uri": "https://localhost:8080/"
        },
        "id": "akUknz8WJPWI",
        "outputId": "eaa7d922-57f1-45e3-ec1a-3bb478e375ac"
      },
      "execution_count": null,
      "outputs": [
        {
          "output_type": "stream",
          "name": "stdout",
          "text": [
            "Length of given string is: 11\n"
          ]
        }
      ]
    },
    {
      "cell_type": "code",
      "source": [
        "# 3) Write a code to slice the first 3 characters from the string \"Python Programming\"\n",
        "s=\"Python Programming\"\n",
        "print(f\"Sliced part: {s[0:3]}\")"
      ],
      "metadata": {
        "id": "db1PBcEeKHno",
        "colab": {
          "base_uri": "https://localhost:8080/"
        },
        "outputId": "2914e8f5-2191-4c8f-c862-2a9e24c3df6d"
      },
      "execution_count": null,
      "outputs": [
        {
          "output_type": "stream",
          "name": "stdout",
          "text": [
            "Sliced part: Pyt\n"
          ]
        }
      ]
    },
    {
      "cell_type": "code",
      "source": [
        "# 4) Write a code to convert the string \"hello\" to uppercase\n",
        "s=\"hello\"\n",
        "print(f\"Uppercase of the given string is: {s.upper()}\")"
      ],
      "metadata": {
        "colab": {
          "base_uri": "https://localhost:8080/"
        },
        "id": "itYPPGlFUwbn",
        "outputId": "01faa610-4c31-4d85-c005-5e62e6a7a116"
      },
      "execution_count": null,
      "outputs": [
        {
          "output_type": "stream",
          "name": "stdout",
          "text": [
            "Uppercase of the given string is: HELLO\n"
          ]
        }
      ]
    },
    {
      "cell_type": "code",
      "source": [
        "# 5) Write a code to replace the word \"apple\" with \"orange\" in the string \"I like apple\"\n",
        "s=\"I like apple\"\n",
        "s1=s.replace(\"apple\",\"orange\")\n",
        "print(f\"New string is: {s1}\")"
      ],
      "metadata": {
        "colab": {
          "base_uri": "https://localhost:8080/"
        },
        "id": "RQKmP9SeVXTt",
        "outputId": "2b6c51d0-9abc-46bc-c45b-83f945ff339b"
      },
      "execution_count": null,
      "outputs": [
        {
          "output_type": "stream",
          "name": "stdout",
          "text": [
            "New string is: I like orange\n"
          ]
        }
      ]
    },
    {
      "cell_type": "code",
      "source": [
        "# 6) Write a code to create a list with numbers 1 to 5 and print it\n",
        "[i for i in range(1,6)]"
      ],
      "metadata": {
        "colab": {
          "base_uri": "https://localhost:8080/"
        },
        "id": "EDPvaJM0akiG",
        "outputId": "bee7898f-9fc4-4a0f-8d40-eb6fb8d4a12d"
      },
      "execution_count": null,
      "outputs": [
        {
          "output_type": "execute_result",
          "data": {
            "text/plain": [
              "[1, 2, 3, 4, 5]"
            ]
          },
          "metadata": {},
          "execution_count": 6
        }
      ]
    },
    {
      "cell_type": "code",
      "source": [
        "# 7) Write a code to append the number 10 to the list [1, 2, 3, 4]\n",
        "l=[1, 2, 3, 4]\n",
        "l.append(10)\n",
        "print(f\"New list is: {l}\")"
      ],
      "metadata": {
        "colab": {
          "base_uri": "https://localhost:8080/"
        },
        "id": "zXKs01V3bhBF",
        "outputId": "1f37adc4-07fc-46c0-ecd9-0f1c7ba76b2b"
      },
      "execution_count": null,
      "outputs": [
        {
          "output_type": "stream",
          "name": "stdout",
          "text": [
            "New list is: [1, 2, 3, 4, 10]\n"
          ]
        }
      ]
    },
    {
      "cell_type": "code",
      "source": [
        "# 8) Write a code to remove the number 3 from the list [1, 2, 3, 4, 5]\n",
        "l=[1, 2, 3, 4, 5]\n",
        "# l.remove(3)\n",
        "l.pop(2)\n",
        "print(f\"New list: {l}\")\n"
      ],
      "metadata": {
        "colab": {
          "base_uri": "https://localhost:8080/"
        },
        "id": "Uc4Bk16-cDqH",
        "outputId": "29188610-3b52-449b-e995-a19746cc4ae5"
      },
      "execution_count": null,
      "outputs": [
        {
          "output_type": "stream",
          "name": "stdout",
          "text": [
            "New list: [1, 2, 4, 5]\n"
          ]
        }
      ]
    },
    {
      "cell_type": "code",
      "source": [
        "# 9) Write a code to access the second element in the list ['a', 'b', 'c', 'd']\n",
        "l=['a', 'b', 'c', 'd']\n",
        "print(f\"Second element is: {l[1]}\")"
      ],
      "metadata": {
        "colab": {
          "base_uri": "https://localhost:8080/"
        },
        "id": "h2v0JusWdCnW",
        "outputId": "8620e0f7-1da8-4c11-e293-fe7668a5aba8"
      },
      "execution_count": null,
      "outputs": [
        {
          "output_type": "stream",
          "name": "stdout",
          "text": [
            "Second element is: b\n"
          ]
        }
      ]
    },
    {
      "cell_type": "code",
      "source": [
        "# 10) Write a code to reverse the list [10, 20, 30, 40, 50]\n",
        "l=[10, 20, 30, 40, 50]\n",
        "# l.reverse()\n",
        "for i in range(len(l)-1,-1,-1):\n",
        "  print(l[i],end=' ')"
      ],
      "metadata": {
        "colab": {
          "base_uri": "https://localhost:8080/"
        },
        "id": "DJnn67dXdWZu",
        "outputId": "c8cc24fa-496d-4ddc-8261-0fd81f8bb988"
      },
      "execution_count": null,
      "outputs": [
        {
          "output_type": "stream",
          "name": "stdout",
          "text": [
            "50 40 30 20 10 "
          ]
        }
      ]
    },
    {
      "cell_type": "code",
      "source": [
        "# 11) Write a code to create a tuple with the elements 100, 200, 300 and print it\n",
        "t=(100,200,300)\n",
        "print(f\"Tuple: {t}\")"
      ],
      "metadata": {
        "colab": {
          "base_uri": "https://localhost:8080/"
        },
        "id": "1YlWLKEom3QW",
        "outputId": "a59bd0a6-6cab-45e0-a139-acb12bc37889"
      },
      "execution_count": null,
      "outputs": [
        {
          "output_type": "stream",
          "name": "stdout",
          "text": [
            "Tuple: (100, 200, 300)\n"
          ]
        }
      ]
    },
    {
      "cell_type": "code",
      "source": [
        "# 12) Write a code to access the second-to-last element of the tuple ('red', 'green', 'blue', 'yellow')\n",
        "t=('red', 'green', 'blue', 'yellow')\n",
        "t2=t[1:]\n",
        "print(f\"Second to last element: {t2}\")\n"
      ],
      "metadata": {
        "colab": {
          "base_uri": "https://localhost:8080/"
        },
        "id": "dygm-na4ooal",
        "outputId": "6e7b7833-3e5a-4ed0-f693-a7ceca28898c"
      },
      "execution_count": null,
      "outputs": [
        {
          "output_type": "stream",
          "name": "stdout",
          "text": [
            "Second to last element: ('green', 'blue', 'yellow')\n"
          ]
        }
      ]
    },
    {
      "cell_type": "code",
      "source": [
        "# 13) Write a code to find the minimum number in the tuple (10, 20, 5, 15)\n",
        "t=(10, 20, 5, 15)\n",
        "Minimum=min(t)\n",
        "print(f\"Minimum value in tuple is: {Minimum}\")"
      ],
      "metadata": {
        "colab": {
          "base_uri": "https://localhost:8080/"
        },
        "id": "i2zjxoCipobH",
        "outputId": "c9ee00c3-db9d-4b42-f107-019800051e8e"
      },
      "execution_count": null,
      "outputs": [
        {
          "output_type": "stream",
          "name": "stdout",
          "text": [
            "Minimum value in tuple is: 5\n"
          ]
        }
      ]
    },
    {
      "cell_type": "code",
      "source": [
        "# 14) Write a code to find the index of the element \"cat\" in the tuple ('dog', 'cat', 'rabbit')\n",
        "t=('dog', 'cat', 'rabbit')\n",
        "Index=t.index(\"cat\")\n",
        "print(f\"Index of cat is: {Index}\")"
      ],
      "metadata": {
        "colab": {
          "base_uri": "https://localhost:8080/"
        },
        "id": "b48spuTcryh-",
        "outputId": "a052c73b-c495-4729-b12e-ab20c5f9dd8e"
      },
      "execution_count": null,
      "outputs": [
        {
          "output_type": "stream",
          "name": "stdout",
          "text": [
            "Index of cat is: 1\n"
          ]
        }
      ]
    },
    {
      "cell_type": "code",
      "source": [
        "# 15) Write a code to create a tuple containing three different fruits and check if \"kiwi\" is in it\n",
        "# t=(\"mango\",\"kiwi\",\"papaya\")\n",
        "t=(\"mango\",\"pineapple\",\"papaya\")\n",
        "if \"kiwi\" in t:\n",
        "  print(\"kiwi is present in the tuple\")\n",
        "else:\n",
        "  print(\"Kiwi is not present in tuple\")\n"
      ],
      "metadata": {
        "colab": {
          "base_uri": "https://localhost:8080/"
        },
        "id": "AZWtB43psN5l",
        "outputId": "b3a79b5e-ac16-4703-db9d-df8c897dd399"
      },
      "execution_count": null,
      "outputs": [
        {
          "output_type": "stream",
          "name": "stdout",
          "text": [
            "Kiwi is not present in tuple\n"
          ]
        }
      ]
    },
    {
      "cell_type": "code",
      "source": [
        "# 16) Write a code to create a set with the elements 'a', 'b', 'c' and print it\n",
        "s={'a','b','c'}\n",
        "print(f\"This represents a set: {s}\")"
      ],
      "metadata": {
        "colab": {
          "base_uri": "https://localhost:8080/"
        },
        "id": "k1kGmlRvtDV1",
        "outputId": "959d49b9-6e24-4315-beee-26dee4a39d4e"
      },
      "execution_count": null,
      "outputs": [
        {
          "output_type": "stream",
          "name": "stdout",
          "text": [
            "This represents a set: {'b', 'a', 'c'}\n"
          ]
        }
      ]
    },
    {
      "cell_type": "code",
      "source": [
        "# 17) Write a code to clear all elements from the set {1, 2, 3, 4, 5}\n",
        "s={1, 2, 3, 4, 5}\n",
        "s.clear()\n",
        "print(f\"Empty set: {s}\")"
      ],
      "metadata": {
        "colab": {
          "base_uri": "https://localhost:8080/"
        },
        "id": "VLPZoKMetTTM",
        "outputId": "3dec4420-50ac-4a8b-ee42-d0e1d468fe32"
      },
      "execution_count": null,
      "outputs": [
        {
          "output_type": "stream",
          "name": "stdout",
          "text": [
            "Empty set: set()\n"
          ]
        }
      ]
    },
    {
      "cell_type": "code",
      "source": [
        "# 18) Write a code to remove the element 4 from the set {1, 2, 3, 4}\n",
        "s={1, 2, 3, 4}\n",
        "# s.remove(4)\n",
        "s.discard(4)\n",
        "print(f\"New set is: {s}\")"
      ],
      "metadata": {
        "colab": {
          "base_uri": "https://localhost:8080/"
        },
        "id": "Qzk4dicmt8bd",
        "outputId": "3fdef0fd-31ca-4261-b47f-52fb63e95e12"
      },
      "execution_count": null,
      "outputs": [
        {
          "output_type": "stream",
          "name": "stdout",
          "text": [
            "New set is: {1, 2, 3}\n"
          ]
        }
      ]
    },
    {
      "cell_type": "code",
      "source": [
        "# 19) Write a code to find the union of two sets {1, 2, 3} and {3, 4, 5}\n",
        "s1={1, 2, 3}\n",
        "s2={3, 4, 5}\n",
        "# Union = s1.union(s2)\n",
        "Union = s1|s2\n",
        "print(f\"Union of both sets: {Union}\")"
      ],
      "metadata": {
        "colab": {
          "base_uri": "https://localhost:8080/"
        },
        "id": "ZfvtR4D7uhRG",
        "outputId": "959705b4-70e2-43a0-c694-e9c2999b41dd"
      },
      "execution_count": null,
      "outputs": [
        {
          "output_type": "stream",
          "name": "stdout",
          "text": [
            "Union of both sets: {1, 2, 3, 4, 5}\n"
          ]
        }
      ]
    },
    {
      "cell_type": "code",
      "source": [
        "# 20) Write a code to find the intersection of two sets {1, 2, 3} and {2, 3, 4}\n",
        "s1={1, 2, 3}\n",
        "s2={2, 3, 4}\n",
        "Intersection = s1.intersection(s2)\n",
        "# Intersection  = s1 & s2\n",
        "print(f\"Common elements in both sets is: {Intersection}\")"
      ],
      "metadata": {
        "colab": {
          "base_uri": "https://localhost:8080/"
        },
        "id": "QIdYbJx8u-yF",
        "outputId": "4f792105-b450-44d3-e813-f7c2b098ee1b"
      },
      "execution_count": null,
      "outputs": [
        {
          "output_type": "stream",
          "name": "stdout",
          "text": [
            "Common elements in both sets is: {2, 3}\n"
          ]
        }
      ]
    },
    {
      "cell_type": "code",
      "source": [
        "# 21) Write a code to create a dictionary with the keys \"name\", \"age\", and \"city\", and print it\n",
        "d={}\n",
        "d[\"name\"] = ''\n",
        "d[\"age\"] = ''\n",
        "d[\"city\"] = ''\n",
        "print(f\"Dictionary with keys and null values: {d}\")"
      ],
      "metadata": {
        "colab": {
          "base_uri": "https://localhost:8080/"
        },
        "id": "9AR7hXhXvbg8",
        "outputId": "0d7df2e9-6311-4b83-d209-3ae090dc1680"
      },
      "execution_count": null,
      "outputs": [
        {
          "output_type": "stream",
          "name": "stdout",
          "text": [
            "Dictionary with keys and null values: {'name': '', 'age': '', 'city': ''}\n"
          ]
        }
      ]
    },
    {
      "cell_type": "code",
      "source": [
        "# 22) Write a code to add a new key-value pair \"country\": \"USA\" to the dictionary {'name': 'John', 'age': 25}\n",
        "d={'name': 'John', 'age': 25}\n",
        "d[\"country\"]=\"USA\"\n",
        "print(f\"New dictionary is: {d}\")"
      ],
      "metadata": {
        "colab": {
          "base_uri": "https://localhost:8080/"
        },
        "id": "elhtz9C1wGIm",
        "outputId": "9b122c2f-3ea6-48e4-e5b3-6e6d21b377a9"
      },
      "execution_count": null,
      "outputs": [
        {
          "output_type": "stream",
          "name": "stdout",
          "text": [
            "New dictionary is: {'name': 'John', 'age': 25, 'country': 'USA'}\n"
          ]
        }
      ]
    },
    {
      "cell_type": "code",
      "source": [
        "# 23) Write a code to access the value associated with the key \"name\" in the dictionary {'name': 'Alice', 'age': 30}\n",
        "d={'name': 'Alice', 'age': 30}\n",
        "print(f\"The value of the key 'name' is: {d['name']}\")"
      ],
      "metadata": {
        "colab": {
          "base_uri": "https://localhost:8080/"
        },
        "id": "Z25UIJZCwmAl",
        "outputId": "e8c118fd-0f97-49e0-9ca7-a419bd49f415"
      },
      "execution_count": null,
      "outputs": [
        {
          "output_type": "stream",
          "name": "stdout",
          "text": [
            "The value of the key 'name' is: Alice\n"
          ]
        }
      ]
    },
    {
      "cell_type": "code",
      "source": [
        "# 24) Write a code to remove the key \"age\" from the dictionary {'name': 'Bob', 'age': 22, 'city': 'New York'}\n",
        "d={'name': 'Bob', 'age': 22, 'city': 'New York'}\n",
        "del d[\"age\"]\n",
        "print(f\"Dictionary after removing age: {d}\")"
      ],
      "metadata": {
        "colab": {
          "base_uri": "https://localhost:8080/"
        },
        "id": "_Vm-ln6oxAfl",
        "outputId": "ba121160-f993-4ab1-a6dc-4d54fddcc6da"
      },
      "execution_count": null,
      "outputs": [
        {
          "output_type": "stream",
          "name": "stdout",
          "text": [
            "Dictionary after removing age: {'name': 'Bob', 'city': 'New York'}\n"
          ]
        }
      ]
    },
    {
      "cell_type": "code",
      "source": [
        "# 25) Write a code to check if the key \"city\" exists in the dictionary {'name': 'Alice', 'city': 'Paris'}\n",
        "d={'name': 'Alice', 'city': 'Paris'}\n",
        "# d={'name': 'Alice', 'xyz': 'Paris'}\n",
        "if \"city\" in d:\n",
        "  print(\"The key 'city' exists in dictionary\")\n",
        "else:\n",
        "  print(\"The key 'city' doesnot exist in dictionary\")"
      ],
      "metadata": {
        "colab": {
          "base_uri": "https://localhost:8080/"
        },
        "id": "yNp-5LvhxcE9",
        "outputId": "96c6ac0e-cc0c-4f06-a889-eae7f528df10"
      },
      "execution_count": null,
      "outputs": [
        {
          "output_type": "stream",
          "name": "stdout",
          "text": [
            "The key 'city' exists in dictionary\n"
          ]
        }
      ]
    },
    {
      "cell_type": "code",
      "source": [
        "# 26) Write a code to create a list, a tuple, and a dictionary, and print them all.\n",
        "l=[1,3.9,-8,\"mango\",[1,8],(\"papaya\",)]\n",
        "t=(100,35.2,-98,\"pineapple\",[1,8],(\"watermelon\",))\n",
        "d={\"a\":1, 2:55.09, 3:\"bcd\"}\n",
        "print(f\"List: {l}\\nTuple: {t}\\nDictionary: {d}\")"
      ],
      "metadata": {
        "colab": {
          "base_uri": "https://localhost:8080/"
        },
        "id": "W33E8EDTyZVd",
        "outputId": "337fe4c1-c077-4f76-c75c-b7c82cced052"
      },
      "execution_count": null,
      "outputs": [
        {
          "output_type": "stream",
          "name": "stdout",
          "text": [
            "List: [1, 3.9, -8, 'mango', [1, 8], ('papaya',)]\n",
            "Tuple: (100, 35.2, -98, 'pineapple', [1, 8], ('watermelon',))\n",
            "Dictionary: {'a': 1, 2: 55.09, 3: 'bcd'}\n"
          ]
        }
      ]
    },
    {
      "cell_type": "code",
      "source": [
        "# 27) Write a code to create a list of 5 random numbers between 1 and 100, sort it in ascending order, and print the result.(replaced)\n",
        "import random\n",
        "result=[random.randint(1,100) for i in range(5)]\n",
        "print(f\"Random numbers generation: {result}\")\n",
        "result.sort()\n",
        "print(f\"Sorted list: {result}\")"
      ],
      "metadata": {
        "colab": {
          "base_uri": "https://localhost:8080/"
        },
        "id": "KO26xjztzrP9",
        "outputId": "07f733b1-88f5-4300-9d87-3c58003bf809"
      },
      "execution_count": null,
      "outputs": [
        {
          "output_type": "stream",
          "name": "stdout",
          "text": [
            "Random numbers generation: [78, 23, 7, 9, 27]\n",
            "Sorted list: [7, 9, 23, 27, 78]\n"
          ]
        }
      ]
    },
    {
      "cell_type": "code",
      "source": [
        "# 28) Write a code to create a list with strings and print the element at the third index\n",
        "l=[\"m\",\"s\",\"d\",\"a\",\"o\"]\n",
        "print(f\"The element at 3rd index is: {l[3]}\")\n"
      ],
      "metadata": {
        "colab": {
          "base_uri": "https://localhost:8080/"
        },
        "id": "INC-wKjI2R0e",
        "outputId": "a85c0c45-ec5b-4ae5-ae6e-0c5e78cd6b89"
      },
      "execution_count": null,
      "outputs": [
        {
          "output_type": "stream",
          "name": "stdout",
          "text": [
            "The element at 3rd index is: a\n"
          ]
        }
      ]
    },
    {
      "cell_type": "code",
      "source": [
        "# 29) Write a code to combine two dictionaries into one and print the result\n",
        "d1={1:\"a\",2:\"p\"}\n",
        "d2={\"t\":\"apple\",\"s\":\"paris\",1:\"pop\"}\n",
        "# combined_dictionary = {**d1,**d2}\n",
        "'''\n",
        "Using union operation\n",
        "'''\n",
        "combined_dictionary = d1 | d2\n",
        "print(f\"Combined dictionary is: {combined_dictionary}\")"
      ],
      "metadata": {
        "colab": {
          "base_uri": "https://localhost:8080/"
        },
        "id": "xkM0PxNr3cU1",
        "outputId": "035d7ccb-d665-452d-d3d9-36e7e782bb84"
      },
      "execution_count": null,
      "outputs": [
        {
          "output_type": "stream",
          "name": "stdout",
          "text": [
            "Combined dictionary is: {1: 'pop', 2: 'p', 't': 'apple', 's': 'paris'}\n"
          ]
        }
      ]
    },
    {
      "cell_type": "code",
      "source": [
        "# 30) Write a code to convert a list of strings into a set\n",
        "l=[\"m\",\"s\",\"d\",\"a\",\"o\"]\n",
        "s=set(l)\n",
        "print(f\"Converted list into set: {s}\")"
      ],
      "metadata": {
        "colab": {
          "base_uri": "https://localhost:8080/"
        },
        "id": "n7GV35WH5gn1",
        "outputId": "a4176c98-9eee-4b29-8ba4-b08b435df7a1"
      },
      "execution_count": null,
      "outputs": [
        {
          "output_type": "stream",
          "name": "stdout",
          "text": [
            "Converted list into set: {'m', 'o', 's', 'a', 'd'}\n"
          ]
        }
      ]
    },
    {
      "cell_type": "markdown",
      "source": [
        "Data Types and Structures Assignment - Theory"
      ],
      "metadata": {
        "id": "iol00_oYxsMT"
      }
    },
    {
      "cell_type": "code",
      "source": [
        "# 1) What are data structures and why are they important?\n",
        "\n",
        "'''\n",
        "Data structures: These are the containers where the data can be accessed, manipulated and stored\n",
        "Examples: List, tuple, sets, dictionary, strings, arrays\n",
        "\n",
        "Importance: Choosing a correct data structure optimizes/makes the code efficient (improves performance)\n",
        "efficient in terms of time consumption\n",
        "we can organize the data logically and is re-usable\n",
        "optimizes space complexity (hastables, these are created for immutable data structures in the memory and they can be used as keys)\n",
        "\n",
        "'''\n"
      ],
      "metadata": {
        "id": "yW_ew-hExwgr"
      },
      "execution_count": null,
      "outputs": []
    },
    {
      "cell_type": "code",
      "source": [
        "# 2) Explain the difference between mutable and immutable data types with examples\n",
        "\n",
        "'''\n",
        "Mutable: This means the items in the data structure can be modified/changed\n",
        "Immutable: This means the items in the data structure cannot be modified/changed\n",
        "\n",
        "Examples:\n",
        "Lists, sets, dictionaries are mutable\n",
        "strings and tuples are immutable\n",
        "\n",
        "\n",
        "l1=[1,2,3]\n",
        "l1.append(9)\n",
        "print(l1)  output: adds element 9 at the end of the l1\n",
        "\n",
        "d={1: 'mango','a':2, 1:1}\n",
        "del d[1]\n",
        "print(d)  output: key-values pairs which have key as 1 will be removed, if there are 2 keys, both are removec\n",
        "\n",
        "\n",
        "t=('a','v')\n",
        "t[-1] = 2\n",
        "print(t)  output: TypeError: 'tuple' object does not support item assignment\n",
        "\n",
        "'''\n"
      ],
      "metadata": {
        "colab": {
          "base_uri": "https://localhost:8080/"
        },
        "id": "ROeEud-y1mjS",
        "outputId": "eabb0748-2095-4f70-a156-1409ff812ccc"
      },
      "execution_count": null,
      "outputs": [
        {
          "output_type": "stream",
          "name": "stdout",
          "text": [
            "[1, 2, 3, 9]\n"
          ]
        }
      ]
    },
    {
      "cell_type": "code",
      "source": [
        "# 3) What are the main differences between lists and tuples in Python\n",
        "\n",
        "'''\n",
        "Lists: 1) Lists are mutable, ordered, indexing is possible\n",
        "       2) Represented as []\n",
        "       3) We can use append, insert, pop, remove, replace, sort, reverse, delete items of a list\n",
        "       4) Any data type is acceptable by lists : integer, list, tuple, string, negative number, float, boolean\n",
        "       5) l = [1,\"a\",-98,0.76,True,[1,8],(-97,2),{1,4,6}]\n",
        "       6) Example: List of number of products, they may get added or removed\n",
        "\n",
        "Tuples: 1) Tuples are immutable, ordered, indexing is possible\n",
        "        2) Represented as ()\n",
        "        3) We cannot use append, insert, pop, remove, replace, sort, reverse, delete items of a tuple\n",
        "        4) Any data type is acceptable by tuple : integer, list, tuple, string, negative number, float, boolean\n",
        "        5) t = (1,\"a\",-98,0.76,True,[1,8],(-97,2),{1,4,6})\n",
        "        6) Example: Employee salary, rent - these are fixed\n",
        "\n",
        "'''"
      ],
      "metadata": {
        "id": "YBqqfBRI48Vf"
      },
      "execution_count": null,
      "outputs": []
    },
    {
      "cell_type": "code",
      "source": [
        "# 4) Describe how dictionaries store data\n",
        "\n",
        "'''\n",
        "Dictionaries store data in form of key-value pairs\n",
        "The key is hashed and stored in memory\n",
        "It accepts only immutable objects ie., keys shuould be immutable\n",
        "Values can be any data type\n",
        "\n",
        "dict1 = {\"a\":98,(1,2):5} - this is valid\n",
        "dict2 = {\"a\":98,[1,2]:5} - this is invalid, key is a list which is mutable\n",
        "\n",
        "This used fo storing structured data eg: JSON format data\n",
        "Also used to count the occurances ie., maaanggooo, to find\n",
        "\n",
        "'''"
      ],
      "metadata": {
        "id": "sHxT6UDJ7SVQ"
      },
      "execution_count": null,
      "outputs": []
    },
    {
      "cell_type": "code",
      "source": [
        "# 5) Why might you use a set instead of a list in Python\n",
        "\n",
        "'''\n",
        "Sets behaviour is to maintain unique elements and accepts only immutable objects as they are hashable\n",
        "Mathematical operations like intersection, union, difference\n",
        "Time complexity is less ie., O(1) (x in set)\n",
        "Lists doe not maintain unique objects and accepts all kind of data types\n",
        "Time complexity is O(n) n-represents time in seconds or ms\n",
        "\n",
        "'''\n"
      ],
      "metadata": {
        "id": "kDyoX64__k4k"
      },
      "execution_count": null,
      "outputs": []
    },
    {
      "cell_type": "code",
      "source": [
        "# 6) What is a string in Python, and how is it different from a list\n",
        "'''\n",
        "string: string is a collection of characters/character present in btwn double or single quotes\n",
        "ex: \"a\",\"mango\",'This is 6th question','1' - valid\n",
        "\n",
        "list: a list is a collection of different items of different data types ie., list is collection of heterogenous items\n",
        "ex: [1,3.5,-8,\"a\",\"3\",True,[33,89],(3,4,5),{9,8,7},{1: \"a\",\"v\":9},9+10j]\n",
        "\n",
        "'''\n",
        "\n",
        "# Lets check the invalid presentation of a string\n",
        "s=\"[1,2,3,4,5]'\n",
        "print(s)"
      ],
      "metadata": {
        "colab": {
          "base_uri": "https://localhost:8080/",
          "height": 106
        },
        "id": "vRWXuofRpbO0",
        "outputId": "1a33f33f-eced-425b-cc10-4db9ac06c79a"
      },
      "execution_count": null,
      "outputs": [
        {
          "output_type": "error",
          "ename": "SyntaxError",
          "evalue": "unterminated string literal (detected at line 12) (<ipython-input-8-514a7f7c15e5>, line 12)",
          "traceback": [
            "\u001b[0;36m  File \u001b[0;32m\"<ipython-input-8-514a7f7c15e5>\"\u001b[0;36m, line \u001b[0;32m12\u001b[0m\n\u001b[0;31m    s=\"[1,2,3,4,5]'\u001b[0m\n\u001b[0m      ^\u001b[0m\n\u001b[0;31mSyntaxError\u001b[0m\u001b[0;31m:\u001b[0m unterminated string literal (detected at line 12)\n"
          ]
        }
      ]
    },
    {
      "cell_type": "code",
      "source": [
        "# 7) How do tuples ensure data integrity in Python?\n",
        "'''\n",
        "\n",
        "As we know that tuples are immutable, they are hashable\n",
        "ie., the tuples can be used as keys\n",
        "ex: {(1,2):\"numbers\"}\n",
        "also they can be used as constants as their values does not change\n",
        "ex: pi = 3.14, data base configuration, http status codes, colour codes etc\n",
        "\n",
        "'''"
      ],
      "metadata": {
        "id": "0icLSKJgq8Er"
      },
      "execution_count": null,
      "outputs": []
    },
    {
      "cell_type": "code",
      "source": [
        "# 8) What is a hash table, and how does it relate to dictionaries in Python\n",
        "\n",
        "'''\n",
        "Hash table: Hash table contains hashes and values, these hashes are the keys which are converted into hashes using hash function, hash()\n",
        "and these hashes and values are mapped\n",
        "python dictinonaries are implemented as hash tables\n",
        "this has less time complexity: O(1)\n",
        "ex: {1:2,\"a\":5,6:\"b\"}\n",
        "the immutable objects can be used as keys and they are hashed\n",
        "immutable objects: tuple, string, int\n",
        "\n",
        "'''"
      ],
      "metadata": {
        "id": "m65uAEYhscza"
      },
      "execution_count": null,
      "outputs": []
    },
    {
      "cell_type": "code",
      "source": [
        "# 9) Can lists contain different data types in Python\n",
        "'''\n",
        "Yes, lists contain different data types\n",
        "Lists are the collection of heterogenous items\n",
        "Any data type is accepted by list\n",
        "List is mutable and is ordered\n",
        "Indexing is possible\n",
        "ex: [1,3.5,-8,\"a\",\"3\",True,[33,89],(3,4,5),{9,8,7},{1: \"a\",\"v\":9},9+10j]\n",
        "\n",
        "'''\n",
        "l = [1,3.5,-8,\"a\",\"3\",True,[33,89],(3,4,5),{9,8,7},{1: \"a\",\"v\":9},9+10j]\n",
        "print(f\"length of list : {len(l)}\")\n",
        "print(f\"element at 8th index: {l[8]}\")"
      ],
      "metadata": {
        "colab": {
          "base_uri": "https://localhost:8080/"
        },
        "id": "ocj-BnwiuQsY",
        "outputId": "1309bbe1-1f09-4cd0-8132-65f88edcb949"
      },
      "execution_count": null,
      "outputs": [
        {
          "output_type": "stream",
          "name": "stdout",
          "text": [
            "length of list : 11\n",
            "element at 8th index: {8, 9, 7}\n"
          ]
        }
      ]
    },
    {
      "cell_type": "code",
      "source": [
        "# 10) Explain why strings are immutable in Python\n",
        "\n",
        "'''\n",
        " When a string is declared, it is located in the memory in a single block, each character does not have separate blocks like lists (for Lists each and every item has an memory block)\n",
        " so, we cant change any character\n",
        " if a=\"mango\"\n",
        " for this string we have an address location in memory\n",
        " if a=\"i love mangoes\"\n",
        " as we have same variable, a=\"mango\" location will be cleared and a new address location for the string is created somewhere in the memory\n",
        " if a=\"mango\"is being accessed by some other variable, then python will not clear this\n",
        "\n",
        "'''\n"
      ],
      "metadata": {
        "id": "94gAeaGovnD4"
      },
      "execution_count": null,
      "outputs": []
    },
    {
      "cell_type": "code",
      "source": [
        "# 11) What advantages do dictionaries offer over lists for certain tasks\n",
        "'''\n",
        "time complexity: dict = O(1), list = O(n)\n",
        "storing data: dict = key-value pairs, list = no mapping (ordered values)\n",
        "duplicates: dict = no duplicates, list = has duplicates\n",
        "\n",
        "'''"
      ],
      "metadata": {
        "id": "KHxQfiRN4e5E"
      },
      "execution_count": null,
      "outputs": []
    },
    {
      "cell_type": "code",
      "source": [
        "# 12) Describe a scenario where using a tuple would be preferable over a list\n",
        "'''\n",
        "Tuples are immutable\n",
        "so they are hashable\n",
        "they can be used as dictionary keys\n",
        "as they are not changeable, they ensure data protection ie., when the tuple is called by the caller, he cannot change/alter the data\n",
        "ensures faster performance\n",
        "\n",
        "'''"
      ],
      "metadata": {
        "id": "fZYEVlXx92mK"
      },
      "execution_count": null,
      "outputs": []
    },
    {
      "cell_type": "code",
      "source": [
        "# 13) How do sets handle duplicate values in Python\n",
        "'''\n",
        "Sets use hash tables to maintain unique elements\n",
        "before adding element, python checks if its hash value is already in the set\n",
        "if yes, it simply ignores adding the element, it doesnot raise error\n",
        "s={1,2,3}\n",
        "the elements in set are keys, not values\n",
        "'''\n"
      ],
      "metadata": {
        "id": "oM-pPvBDI0Bs"
      },
      "execution_count": null,
      "outputs": []
    },
    {
      "cell_type": "code",
      "source": [
        "# 14) How does the “in” keyword work differently for lists and dictionaries\n",
        "'''\n",
        "Lists contain values\n",
        "Dictionaries contain key-value pairs\n",
        "\n",
        "\"in\" in list checks for if the value is present or not\n",
        "l=[1,2,3,4,5]\n",
        "if 3 in l:\n",
        "  print(\"value is present in list\")\n",
        "\n",
        "\"in\" in dictionary checks if the key is present or not\n",
        "d={\"a\":1,2:\"e\"}\n",
        "if 2 in d:\n",
        "  print(\"key is present in dictionary\")\n",
        "\n",
        "'''"
      ],
      "metadata": {
        "id": "SFbeecrBLYGs"
      },
      "execution_count": null,
      "outputs": []
    },
    {
      "cell_type": "code",
      "source": [
        "# 15) Can you modify the elements of a tuple? Explain why or why not\n",
        "'''\n",
        "whenever a tuple is created, each and every value in the tuple has a address location in the memory\n",
        "ie., t1=(1,2,3)\n",
        "t - has address location whose structure remains unchanged, ie., it is locked\n",
        "it has fixed block of references\n",
        "1,2,3 have separate locations (each value has different block)\n",
        "\n",
        "if we want to modify tuple, we can concatenate another tuple\n",
        "\n",
        "'''\n",
        "t1=(1,2,3)\n",
        "t2=(8,10,)\n",
        "t=t1+t2\n",
        "print(t)\n"
      ],
      "metadata": {
        "colab": {
          "base_uri": "https://localhost:8080/"
        },
        "id": "W2k5vCddOQHs",
        "outputId": "abed5390-cb8e-42cb-a3fb-6a93347e7a12"
      },
      "execution_count": null,
      "outputs": [
        {
          "output_type": "stream",
          "name": "stdout",
          "text": [
            "(1, 2, 3, 8, 10)\n"
          ]
        }
      ]
    },
    {
      "cell_type": "code",
      "source": [
        "# 16) What is a nested dictionary, and give an example of its use case\n",
        "'''\n",
        "Nested Dictionary means having dictionaries as its values\n",
        "Ued to store hierarchical data\n",
        "\n",
        "'''\n",
        "employees = {\"Arun\":{\"age\":30, \"role\": \"Developer\"},\n",
        "             \"Varun\":{\"age\":20, \"role\": \"Tester\"}}\n",
        "print(employees[\"Varun\"][\"role\"])\n",
        "\n",
        "'''\n",
        "like wise we can go with electronics, address\n",
        "ie., electronics is the category, mobiles, laptops, monitors,\n",
        "UPS etc come under sub-category (which is used as inner dictionary)\n",
        "address - we have area, zipcode, city, state, country as sub-categories\n",
        "\n",
        "'''\n",
        "\n",
        "product = {\"electronics\":{\"mobiles\":[\"android\",\"iphone\"],\n",
        "                          \"laptops\":[\"macbook\"]}\n",
        "          }\n",
        "\n",
        "location = {'address':{\"area\":\"kkp\",\n",
        "                       \"zipcode\":500072,\n",
        "                       \"city\":\"Hyd\",\n",
        "                       \"state\":\"Telangana\",\n",
        "                       \"country\":\"India\"}\n",
        "           }\n",
        "'''\n",
        "These are few examples of nested dictionaries\n",
        "\n",
        "'''\n",
        "\n"
      ],
      "metadata": {
        "colab": {
          "base_uri": "https://localhost:8080/"
        },
        "id": "nmmStPQdU8yH",
        "outputId": "79ce4681-fe29-431b-865e-9ffcdd46f129"
      },
      "execution_count": null,
      "outputs": [
        {
          "output_type": "stream",
          "name": "stdout",
          "text": [
            "Tester\n"
          ]
        }
      ]
    },
    {
      "cell_type": "code",
      "source": [
        "#  17) Describe the time complexity of accessing elements in a dictionary\n",
        "'''\n",
        "As the keys are hashable, the time taken is O(1)\n",
        "in rare cases ie., during hash collisions it takes O(n)\n",
        "\n",
        "'''"
      ],
      "metadata": {
        "id": "-lAk4GH9ZGRe"
      },
      "execution_count": null,
      "outputs": []
    },
    {
      "cell_type": "code",
      "source": [
        "# 18) In what situations are lists preferred over dictionaries\n",
        "'''\n",
        "when duplicates are needed\n",
        "when index based access is needed\n",
        "when we need a ordered date ie., logs, time series\n",
        "memory efficiency for simple and iterable data\n",
        "\n",
        "'''"
      ],
      "metadata": {
        "id": "qf_hFJ-GZ9il"
      },
      "execution_count": null,
      "outputs": []
    },
    {
      "cell_type": "code",
      "source": [
        "# 19) Why are dictionaries considered unordered, and how does that affect data retrieval\n",
        "'''\n",
        "they are ordered by insertion but its strength is fast key based access\n",
        "impact on data retrival: ordered but not indexed, we cannot access keys by position eg: dict[0]\n",
        "order preservation doesnot slow down the lookups\n",
        "\n",
        "'''"
      ],
      "metadata": {
        "id": "8vHkfMOBbRHg"
      },
      "execution_count": null,
      "outputs": []
    },
    {
      "cell_type": "code",
      "source": [
        "#  20) Explain the difference between a list and a dictionary in terms of data retrieval\n",
        "'''\n",
        "Lists: Index based search - O(1)\n",
        "       sorting algorithms - O(n)\n",
        "Dictionaries: Key-based access - O(1)\n",
        "\n",
        "Lists for ordered sequences, dict for fast key-value pairs\n",
        "\n",
        "'''"
      ],
      "metadata": {
        "id": "clZjna4hdrAV"
      },
      "execution_count": null,
      "outputs": []
    }
  ]
}